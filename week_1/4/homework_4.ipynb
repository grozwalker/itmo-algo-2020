{
 "cells": [
  {
   "cell_type": "code",
   "execution_count": 9,
   "metadata": {},
   "outputs": [],
   "source": [
    "def sort(arr):    \n",
    "    for i in range(1, len(arr)):\n",
    "        k = i\n",
    "        \n",
    "        tmp = arr[i]\n",
    "        \n",
    "        inserting = False\n",
    "        while k >= 1 and tmp < arr[k-1]:\n",
    "            inserting = True\n",
    "            arr[k] = arr[k-1]\n",
    "            k -= 1\n",
    "            \n",
    "        if (inserting):\n",
    "            arr[k] = tmp"
   ]
  },
  {
   "cell_type": "code",
   "execution_count": 30,
   "metadata": {},
   "outputs": [],
   "source": [
    "def insertionSort(data):\n",
    "    for i in range(len(data)):\n",
    "        j = i - 1 \n",
    "        tmp = data[i]\n",
    "        while data[j] > tmp and j >= 0:\n",
    "            data[j + 1] = data[j]\n",
    "            j -= 1\n",
    "\n",
    "        data[j + 1] = tmp\n",
    "            \n",
    "    return data"
   ]
  },
  {
   "cell_type": "code",
   "execution_count": 31,
   "metadata": {},
   "outputs": [
    {
     "name": "stdout",
     "output_type": "stream",
     "text": [
      "[0, 1, 2, 3, 4, 5, 6, 7, 8, 9]\n"
     ]
    }
   ],
   "source": [
    "arr = [1, 8, 4, 2, 3, 7, 5, 6, 9, 0]\n",
    "\n",
    "insertionSort(arr)\n",
    "\n",
    "print(arr)"
   ]
  },
  {
   "cell_type": "code",
   "execution_count": 27,
   "metadata": {},
   "outputs": [
    {
     "name": "stdout",
     "output_type": "stream",
     "text": [
      "slow_functions.main took 3.0184853076934814 seconds\n"
     ]
    }
   ],
   "source": [
    "import time\n",
    "\n",
    "from edx_io import edx_io\n",
    "\n",
    "arr = []\n",
    "\n",
    "with edx_io() as io:\n",
    "    arr_length = io.next_int()\n",
    "    for i in range (0, arr_length):\n",
    "        #arr.append(int(100 * io.next_float()))\n",
    "        arr.append(io.next_float())\n",
    "        \n",
    "    #arrForSort = arr[:]\n",
    "    \n",
    "t1 = time.time()\n",
    "\n",
    "insertionSort(arr)\n",
    "\n",
    "\n",
    "\n",
    "t2 = time.time()\n",
    "print('slow_functions.main took {} seconds'.format(t2 - t1))\n",
    "    #least = arr.index(arrForSort[0]) + 1\n",
    "    #largest = arr.index(arrForSort[-1]) + 1    \n",
    "    #average = arr.index(arrForSort[arr_length // 2]) + 1\n",
    "    \n",
    "    #answear = (least, average, largest)\n",
    "    \n",
    "    #io.writeln(answear)\n"
   ]
  }
 ],
 "metadata": {
  "kernelspec": {
   "display_name": "Python 3",
   "language": "python",
   "name": "python3"
  },
  "language_info": {
   "codemirror_mode": {
    "name": "ipython",
    "version": 3
   },
   "file_extension": ".py",
   "mimetype": "text/x-python",
   "name": "python",
   "nbconvert_exporter": "python",
   "pygments_lexer": "ipython3",
   "version": "3.7.6"
  }
 },
 "nbformat": 4,
 "nbformat_minor": 4
}
