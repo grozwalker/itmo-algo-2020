{
 "cells": [
  {
   "cell_type": "code",
   "execution_count": 2,
   "metadata": {},
   "outputs": [],
   "source": [
    "from edx_io import edx_io\n",
    "import random\n",
    "\n",
    "n = 10000\n",
    "money = sample_floats(n)\n",
    "\n",
    "with edx_io() as io:\n",
    "    io.writeln(n)\n",
    "    io.writeln(money)\n",
    "    "
   ]
  },
  {
   "cell_type": "code",
   "execution_count": 1,
   "metadata": {},
   "outputs": [],
   "source": [
    "import random\n",
    "\n",
    "def sample_floats(n):\n",
    "    low = 0\n",
    "    high = 1000000\n",
    "    result = []\n",
    "    seen = set()\n",
    "    \n",
    "    for i in range(n):\n",
    "        x = round(random.uniform(low, high), 2)\n",
    "        while x in seen:\n",
    "            x = round(random.uniform(low, high), 2)\n",
    "        seen.add(x)\n",
    "        result.append(x)\n",
    "    return result"
   ]
  }
 ],
 "metadata": {
  "kernelspec": {
   "display_name": "Python 3",
   "language": "python",
   "name": "python3"
  },
  "language_info": {
   "codemirror_mode": {
    "name": "ipython",
    "version": 3
   },
   "file_extension": ".py",
   "mimetype": "text/x-python",
   "name": "python",
   "nbconvert_exporter": "python",
   "pygments_lexer": "ipython3",
   "version": "3.7.6"
  }
 },
 "nbformat": 4,
 "nbformat_minor": 4
}
