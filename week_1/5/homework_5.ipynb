{
 "cells": [
  {
   "cell_type": "code",
   "execution_count": 31,
   "metadata": {},
   "outputs": [],
   "source": [
    "def insertionSort(data):\n",
    "    for i in range(len(data)):\n",
    "        j = i - 1 \n",
    "        tmp = data[i]\n",
    "        while data[j] > tmp and j >= 0:\n",
    "            data[j + 1] = data[j]\n",
    "            # print('Swap elements at indices ' + str(j + 1) + ' and ' + str(j + 2) +'.')\n",
    "            j -= 1\n",
    "\n",
    "        data[j + 1] = tmp\n",
    "        \n",
    "        print('Swap elements at indices ' + str(j + 2) + ' and ' + str(i + 1) +'.')\n",
    "            \n",
    "            \n",
    "    return data"
   ]
  },
  {
   "cell_type": "code",
   "execution_count": 32,
   "metadata": {},
   "outputs": [
    {
     "name": "stdout",
     "output_type": "stream",
     "text": [
      "Swap elements at indices 1 and 1.\n",
      "Swap elements at indices 1 and 2.\n",
      "Swap elements at indices 1 and 3.\n",
      "No more swaps needed.\n",
      "[1, 3, 5]\n"
     ]
    }
   ],
   "source": [
    "arr = [5, 3, 1]\n",
    "\n",
    "insertionSort(arr)\n",
    "\n",
    "print('No more swaps needed.')\n",
    "print(arr)"
   ]
  },
  {
   "cell_type": "code",
   "execution_count": 57,
   "metadata": {},
   "outputs": [],
   "source": [
    "from edx_io import edx_io\n",
    "\n",
    "def swap(arr, first, second):\n",
    "    tmp = arr[first]\n",
    "    arr[first] = arr[second]\n",
    "    arr[second] = tmp\n",
    "\n",
    "\n",
    "data = []\n",
    "\n",
    "with edx_io() as io:\n",
    "    arr_length = io.next_int()\n",
    "    for i in range (0, arr_length):\n",
    "        data.append(io.next_int())\n",
    "\n",
    "    startPosition = 0\n",
    "\n",
    "    while startPosition < arr_length:\n",
    "        min = data[startPosition]\n",
    "        currentMinPosition = startPosition\n",
    "\n",
    "        for i in range(startPosition + 1, arr_length):\n",
    "            if data[i] < min:\n",
    "                min = data[i]\n",
    "                currentMinPosition = i\n",
    "\n",
    "        if startPosition != currentMinPosition:\n",
    "            swap(data, startPosition, currentMinPosition)\n",
    "            io.writeln(f'Swap elements at indices {startPosition + 1} and {currentMinPosition + 1}.')\n",
    "\n",
    "        startPosition += 1\n",
    "\n",
    "    io.writeln('No more swaps needed.')\n",
    "    io.writeln(data)\n"
   ]
  },
  {
   "cell_type": "code",
   "execution_count": 32,
   "metadata": {},
   "outputs": [
    {
     "name": "stdout",
     "output_type": "stream",
     "text": [
      "\n"
     ]
    }
   ],
   "source": [
    "data = []\n",
    "operations = []\n",
    "\n",
    "with edx_io() as io:\n",
    "    arr_length = io.next_int()\n",
    "    for i in range (0, arr_length):\n",
    "        data.append(io.next_int())\n",
    "\n",
    "    for i in range(len(data)):\n",
    "        j = i - 1 \n",
    "        tmp = data[i]\n",
    "        while data[j] > tmp and j >= 0:\n",
    "            data[j + 1] = data[j]\n",
    "            operations.append(j)\n",
    "            j -= 1\n",
    "\n",
    "        data[j + 1] = tmp\n",
    "\n",
    "    for i in operations:\n",
    "        io.writeln(f'Swap elements at indices {i + 1} and {i + 2}.')\n",
    "\n",
    "    io.writeln('No more swaps needed.')\n",
    "    io.writeln(data)"
   ]
  }
 ],
 "metadata": {
  "kernelspec": {
   "display_name": "Python 3",
   "language": "python",
   "name": "python3"
  },
  "language_info": {
   "codemirror_mode": {
    "name": "ipython",
    "version": 3
   },
   "file_extension": ".py",
   "mimetype": "text/x-python",
   "name": "python",
   "nbconvert_exporter": "python",
   "pygments_lexer": "ipython3",
   "version": "3.7.6"
  }
 },
 "nbformat": 4,
 "nbformat_minor": 4
}
