{
 "cells": [
  {
   "cell_type": "code",
   "execution_count": 50,
   "metadata": {},
   "outputs": [
    {
     "name": "stdout",
     "output_type": "stream",
     "text": [
      "k 1\n",
      "part [1, 8]\n",
      "k 2\n",
      "part [1, 4, 8]\n",
      "k 3\n",
      "part [1, 2, 4, 8]\n",
      "k 4\n",
      "part [1, 2, 3, 4, 8]\n",
      "k 5\n",
      "part [1, 2, 3, 4, 7, 8]\n",
      "k 6\n",
      "part [1, 2, 3, 4, 5, 7, 8]\n",
      "k 7\n",
      "part [1, 2, 3, 4, 5, 6, 7, 8]\n",
      "k 8\n",
      "part [1, 2, 3, 4, 5, 6, 7, 8, 9]\n",
      "k 9\n",
      "part [0, 1, 2, 3, 4, 5, 6, 7, 8, 9]\n",
      "[0, 1, 2, 3, 4, 5, 6, 7, 8, 9]\n"
     ]
    }
   ],
   "source": [
    "from edx_io import edx_io\n",
    "a = [1, 8, 4, 2, 3, 7, 5, 6, 9, 0]\n",
    "\n",
    "#sort(a)\n",
    "arr = []\n",
    "\n",
    "with edx_io() as io:\n",
    "    arr_length = io.next_int()\n",
    "    \n",
    "    for i in range (0, arr_length):\n",
    "        arr.append(io.next_int())\n",
    "    \n",
    "    sort(arr, io)\n",
    "    \n",
    "    io.writeln(arr)\n",
    "    print(arr)\n",
    "    #io.writeln(io.next_int() + pow(io.next_int(), 2))\n",
    "\n",
    "\n"
   ]
  },
  {
   "cell_type": "code",
   "execution_count": null,
   "metadata": {},
   "outputs": [],
   "source": []
  },
  {
   "cell_type": "code",
   "execution_count": 49,
   "metadata": {},
   "outputs": [],
   "source": [
    "def sort(arr, io):\n",
    "    indexes = [1]\n",
    "    \n",
    "    for i in range(1, len(arr)):\n",
    "        k = i\n",
    "        print('k', k)\n",
    "        \n",
    "        tmp = arr[i]\n",
    "        \n",
    "        inserting = False\n",
    "        while k >= 1 and tmp < arr[k-1]:\n",
    "            inserting = True\n",
    "            arr[k] = arr[k-1]\n",
    "            k -= 1\n",
    "        \n",
    "        \n",
    "        indexes.append(k+1)\n",
    "            \n",
    "        if (inserting):\n",
    "            arr[k] = tmp\n",
    "            \n",
    "        \n",
    "        print('part', arr[:i+1])\n",
    "    \n",
    "    io.writeln(indexes)"
   ]
  },
  {
   "cell_type": "code",
   "execution_count": null,
   "metadata": {},
   "outputs": [],
   "source": []
  }
 ],
 "metadata": {
  "kernelspec": {
   "display_name": "Python 3",
   "language": "python",
   "name": "python3"
  },
  "language_info": {
   "codemirror_mode": {
    "name": "ipython",
    "version": 3
   },
   "file_extension": ".py",
   "mimetype": "text/x-python",
   "name": "python",
   "nbconvert_exporter": "python",
   "pygments_lexer": "ipython3",
   "version": "3.8.1"
  }
 },
 "nbformat": 4,
 "nbformat_minor": 4
}
