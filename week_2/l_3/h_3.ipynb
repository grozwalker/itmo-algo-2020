{
 "cells": [
  {
   "cell_type": "code",
   "execution_count": null,
   "metadata": {},
   "outputs": [],
   "source": [
    "%load_ext Cython"
   ]
  },
  {
   "cell_type": "code",
   "execution_count": 16,
   "metadata": {},
   "outputs": [
    {
     "name": "stdout",
     "output_type": "stream",
     "text": [
      "0.03731727600097656 seconds\n"
     ]
    }
   ],
   "source": [
    "import time\n",
    "\n",
    "from edx_io import edx_io\n",
    "\n",
    "t1 = time.time()\n",
    "\n",
    "data = []\n",
    "\n",
    "with edx_io() as io:\n",
    "    data_length = io.next_int()\n",
    "    result = []\n",
    "    \n",
    "    for i in range(1, data_length + 1):\n",
    "        result = getList(result, i)\n",
    "    io.writeln(result)\n",
    "    \n",
    "\n",
    "t2 = time.time()\n",
    "print('{} seconds'.format(t2 - t1))\n",
    "\n"
   ]
  },
  {
   "cell_type": "code",
   "execution_count": 15,
   "metadata": {},
   "outputs": [],
   "source": [
    "def getList(result, n):\n",
    "    if n == 1:\n",
    "        return [1]\n",
    "    if n == 2:\n",
    "        return [1, 2]\n",
    "   \n",
    "    key = (n - 1) // 2    \n",
    "    tmp = result[key]\n",
    "    \n",
    "    result[key] = n\n",
    "    result.append(tmp)\n",
    "        \n",
    "    return result"
   ]
  }
 ],
 "metadata": {
  "kernelspec": {
   "display_name": "PyPy3",
   "language": "python",
   "name": "pypy3"
  },
  "language_info": {
   "codemirror_mode": {
    "name": "ipython",
    "version": 3
   },
   "file_extension": ".py",
   "mimetype": "text/x-python",
   "name": "python",
   "nbconvert_exporter": "python",
   "pygments_lexer": "ipython3",
   "version": "3.6.9"
  }
 },
 "nbformat": 4,
 "nbformat_minor": 4
}
