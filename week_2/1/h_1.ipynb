{
 "cells": [
  {
   "cell_type": "code",
   "execution_count": 48,
   "metadata": {},
   "outputs": [],
   "source": [
    "def merge(first, second):\n",
    "    i = 0\n",
    "    j = 0\n",
    "    result = []\n",
    "    \n",
    "    first_len = len(first)\n",
    "    second_len = len(second)\n",
    "    \n",
    "    #print('first', first)\n",
    "    #print('second', second)\n",
    "    \n",
    "    while i < first_len or j < second_len:\n",
    "        if j == second_len or (i < first_len and first[i] < second[j]):\n",
    "            result.append(first[i])\n",
    "            i += 1\n",
    "        else:\n",
    "            result.append(second[j])\n",
    "            j += 1\n",
    "\n",
    "            \n",
    "    #print('merge', result)\n",
    "            \n",
    "    return result\n",
    "            "
   ]
  },
  {
   "cell_type": "code",
   "execution_count": 60,
   "metadata": {},
   "outputs": [],
   "source": [
    "def merge_sort(data, l, r, io):\n",
    "    #print('input data', data, l, r)\n",
    "    \n",
    "    if (r - l) == 0:\n",
    "        return [data[l]]\n",
    "    \n",
    "    if (r - l) == 1:\n",
    "        merged_data = merge([data[l]], [data[r]])\n",
    "        #print('merged_data', merged_data)\n",
    "        #print('l', l)\n",
    "        #print('r', r)\n",
    "        print(l + 1, r + 1, merged_data[0], merged_data[1])\n",
    "        io.writeln(f'{l + 1} {r + 1} {merged_data[0]} {merged_data[1]}')\n",
    "        return merged_data\n",
    "    \n",
    "    middle = (r - l) // 2\n",
    "    #print('middle', middle)\n",
    "    \n",
    "    left_part = merge_sort(data, l, l + middle, io)\n",
    "    right_part = merge_sort(data, l + middle + 1, r, io)\n",
    "    \n",
    "    \n",
    "    #print('l', l, data[l])\n",
    "    #print('r', r, data[r])\n",
    "    \n",
    "    #print('left_part', left_part)\n",
    "    #print('right_part', right_part)\n",
    "    \n",
    "    merged_data = merge(left_part, right_part)\n",
    "    \n",
    "    print(l + 1, r + 1, merged_data[0], merged_data[-1])\n",
    "    io.writeln(f'{l + 1} {r + 1} {merged_data[0]} {merged_data[-1]}')\n",
    "    \n",
    "    return merged_data\n",
    "    \n",
    "    "
   ]
  },
  {
   "cell_type": "code",
   "execution_count": 50,
   "metadata": {},
   "outputs": [
    {
     "name": "stdout",
     "output_type": "stream",
     "text": [
      "1 2 1 8\n",
      "1 3 1 8\n",
      "4 5 1 4\n",
      "1 5 1 8\n",
      "6 7 3 7\n",
      "6 8 2 7\n",
      "9 10 3 6\n",
      "6 10 2 7\n",
      "1 10 1 8\n",
      "finish [1, 1, 2, 2, 3, 3, 4, 6, 7, 8]\n"
     ]
    }
   ],
   "source": [
    "arr = [1, 8, 2, 1, 4, 7, 3, 2, 3, 6]\n",
    "\n",
    "finish = merge_sort(arr, 0, 9)\n",
    "\n",
    "print('finish', finish)"
   ]
  },
  {
   "cell_type": "code",
   "execution_count": 61,
   "metadata": {},
   "outputs": [
    {
     "name": "stdout",
     "output_type": "stream",
     "text": [
      "1 2 1 8\n",
      "1 3 1 8\n",
      "4 5 1 4\n",
      "1 5 1 8\n",
      "6 7 3 7\n",
      "6 8 2 7\n",
      "9 10 3 6\n",
      "6 10 2 7\n",
      "1 10 1 8\n",
      "0.008767843246459961 seconds\n"
     ]
    }
   ],
   "source": [
    "import time\n",
    "\n",
    "from edx_io import edx_io\n",
    "\n",
    "t1 = time.time()\n",
    "\n",
    "data = []\n",
    "\n",
    "with edx_io() as io:\n",
    "    data_length = io.next_int()\n",
    "    for i in range (0, data_length):\n",
    "        data.append(io.next_int())\n",
    "    \n",
    "    result = merge_sort(data, 0 , data_length - 1, io)\n",
    "    \n",
    "    io.writeln(result)\n",
    "    \n",
    "\n",
    "t2 = time.time()\n",
    "print('{} seconds'.format(t2 - t1))\n",
    "\n"
   ]
  }
 ],
 "metadata": {
  "kernelspec": {
   "display_name": "Python 3",
   "language": "python",
   "name": "python3"
  },
  "language_info": {
   "codemirror_mode": {
    "name": "ipython",
    "version": 3
   },
   "file_extension": ".py",
   "mimetype": "text/x-python",
   "name": "python",
   "nbconvert_exporter": "python",
   "pygments_lexer": "ipython3",
   "version": "3.7.6"
  }
 },
 "nbformat": 4,
 "nbformat_minor": 4
}
