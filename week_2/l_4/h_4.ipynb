{
 "cells": [
  {
   "cell_type": "code",
   "execution_count": 25,
   "metadata": {},
   "outputs": [
    {
     "name": "stdout",
     "output_type": "stream",
     "text": [
      "3.3693315982818604 seconds\n"
     ]
    }
   ],
   "source": [
    "import time\n",
    "\n",
    "from edx_io import edx_io\n",
    "\n",
    "t1 = time.time()\n",
    "\n",
    "data = []\n",
    "\n",
    "with edx_io() as io:\n",
    "    data = []\n",
    "    data_length = io.next_int()\n",
    "    k = io.next_int()\n",
    "    \n",
    "    if k == 1:\n",
    "        io.writeln('YES')\n",
    "    else:    \n",
    "        for i in range(0, data_length):\n",
    "            data.append(io.next_int()) \n",
    "\n",
    "        can_sorted = check(data, k)\n",
    "\n",
    "        if can_sorted:\n",
    "            io.writeln('YES')\n",
    "        else:\n",
    "            io.writeln('NO')\n",
    "    \n",
    "t2 = time.time()\n",
    "print('{} seconds'.format(t2 - t1))\n",
    "\n"
   ]
  },
  {
   "cell_type": "code",
   "execution_count": 26,
   "metadata": {},
   "outputs": [
    {
     "data": {
      "text/plain": [
       "True"
      ]
     },
     "execution_count": 26,
     "metadata": {},
     "output_type": "execute_result"
    }
   ],
   "source": [
    "def check(arr, reach):\n",
    "    sorted_arr = sorted(arr)\n",
    "    length = len(arr)\n",
    "    can_sorted = True\n",
    "    \n",
    "    for k in range(0, reach):\n",
    "        tmp = []\n",
    "        tmp_sorted = []\n",
    "        \n",
    "        for i in range(k, length, reach):\n",
    "            tmp.append(arr[i])\n",
    "            tmp_sorted.append(sorted_arr[i])\n",
    "            \n",
    "        for m in tmp:\n",
    "            if m not in tmp_sorted:\n",
    "                can_sorted = False\n",
    "                \n",
    "    return can_sorted\n",
    "    \n",
    "arr = [1, 5, 3, 4, 1]\n",
    "check(arr, 3)"
   ]
  }
 ],
 "metadata": {
  "kernelspec": {
   "display_name": "PyPy3",
   "language": "python",
   "name": "pypy3"
  },
  "language_info": {
   "codemirror_mode": {
    "name": "ipython",
    "version": 3
   },
   "file_extension": ".py",
   "mimetype": "text/x-python",
   "name": "python",
   "nbconvert_exporter": "python",
   "pygments_lexer": "ipython3",
   "version": "3.6.9"
  }
 },
 "nbformat": 4,
 "nbformat_minor": 4
}
