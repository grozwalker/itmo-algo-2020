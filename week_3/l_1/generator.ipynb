{
 "cells": [
  {
   "cell_type": "code",
   "execution_count": 5,
   "metadata": {},
   "outputs": [],
   "source": [
    "from edx_io import edx_io\n",
    "import random\n",
    "\n",
    "n = 6000\n",
    "m = 6000\n",
    "money1 = sample_floats(n)\n",
    "money2 = sample_floats(m)\n",
    "\n",
    "with edx_io() as io:\n",
    "    io.writeln(\"{} {}\".format(n, m))\n",
    "    io.writeln(money1)\n",
    "    io.writeln(money2)\n",
    "    "
   ]
  },
  {
   "cell_type": "code",
   "execution_count": 1,
   "metadata": {},
   "outputs": [],
   "source": [
    "import random\n",
    "\n",
    "def sample_floats(n):\n",
    "    low = 0\n",
    "    high = 40000\n",
    "    result = []\n",
    "    \n",
    "    for i in range(n):\n",
    "        result.append(random.randrange(low, high))\n",
    "        \n",
    "    return result"
   ]
  }
 ],
 "metadata": {
  "kernelspec": {
   "display_name": "Python (PyPy)",
   "language": "python",
   "name": "pypy"
  },
  "language_info": {
   "codemirror_mode": {
    "name": "ipython",
    "version": 3
   },
   "file_extension": ".py",
   "mimetype": "text/x-python",
   "name": "python",
   "nbconvert_exporter": "python",
   "pygments_lexer": "ipython3",
   "version": "3.6.9"
  }
 },
 "nbformat": 4,
 "nbformat_minor": 4
}
