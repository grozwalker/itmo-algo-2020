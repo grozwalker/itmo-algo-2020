{
 "cells": [
  {
   "cell_type": "code",
   "execution_count": 7,
   "metadata": {},
   "outputs": [
    {
     "name": "stdout",
     "output_type": "stream",
     "text": [
      "3.750199317932129 seconds\n"
     ]
    }
   ],
   "source": [
    "import time\n",
    "\n",
    "t1 = time.time()\n",
    "\n",
    "from edx_io import edx_io\n",
    "\n",
    "A = []\n",
    "B = []\n",
    "AB = []\n",
    "result = 0\n",
    "\n",
    "with edx_io() as io:\n",
    "    n = io.next_int()\n",
    "    m = io.next_int()\n",
    "    length = n * m\n",
    "    \n",
    "    #print('length', length)\n",
    "    \n",
    "    for i in range (0, n):\n",
    "        A.append(io.next_int())\n",
    "        \n",
    "    for i in range (0, m):\n",
    "        B.append(io.next_int())\n",
    "    \n",
    "    for a in A: \n",
    "        for b in B:\n",
    "            AB.append(a * b)\n",
    "    \n",
    "    #print('AB', AB)\n",
    "            \n",
    "    sorted_ab = digital_sort(AB)\n",
    "    \n",
    "    #print('sorted_ab', sorted_ab)\n",
    "\n",
    "    for i in range(0, length, 10):\n",
    "        result += sorted_ab[i]\n",
    "\n",
    "    io.writeln(result)  \n",
    "\n",
    "t2 = time.time()\n",
    "print('{} seconds'.format(t2 - t1))"
   ]
  },
  {
   "cell_type": "code",
   "execution_count": 3,
   "metadata": {},
   "outputs": [
    {
     "data": {
      "text/plain": [
       "[0, 3, 3, 4, 11, 15, 44, 99, 431]"
      ]
     },
     "execution_count": 3,
     "metadata": {},
     "output_type": "execute_result"
    }
   ],
   "source": [
    "def digital_sort(A):\n",
    "    result = A\n",
    "    max_el = 0;\n",
    "    length = 0\n",
    "    \n",
    "    for el in A:\n",
    "        length += 1\n",
    "        if el > max_el:\n",
    "            max_el = el\n",
    "            \n",
    "    \n",
    "    digits = len(hex(max_el)[2:])\n",
    "    \n",
    "    #digits = len(str(max_el))\n",
    "    \n",
    "    #print('digits', digits)\n",
    "    tmp_sorted = [None] * (len(A))\n",
    "    \n",
    "    for d in range(digits):\n",
    "        result = counting_sort(result, tmp_sorted, d)\n",
    "        #print('d', d, 'result', result)\n",
    "\n",
    "\n",
    "    return result\n",
    "arr = [15, 0, 4, 99, 11, 3, 3, 431, 44]\n",
    "digital_sort(arr)"
   ]
  },
  {
   "cell_type": "code",
   "execution_count": 6,
   "metadata": {},
   "outputs": [],
   "source": [
    "def counting_sort(A, tmp_sorted, d):\n",
    "    scope = 16\n",
    "    current_place = 0\n",
    "    #tmp_sorted = tmp_sorted.copy()\n",
    "    \n",
    "    offsets = [None] * scope\n",
    "    C = [0] * scope\n",
    "    #print('A', A)\n",
    "    #print('tmp_sorted', tmp_sorted)\n",
    "    \n",
    "    for x in A: \n",
    "        if x < (scope * d):\n",
    "            tmp_sorted[current_place] = x\n",
    "            current_place += 1\n",
    "        else:\n",
    "            offset = (x >> (4 * d)) & (scope - 1)\n",
    "            #offset = x % (10 ** (d + 1)) // (10 ** d)\n",
    "            #print('offset_value', offset)\n",
    "            #print('C', C)\n",
    "            C[offset] += 1\n",
    "            \n",
    "    #print('C', C)\n",
    "        \n",
    "    counting = 0\n",
    "    for i in range(scope):\n",
    "        #print('i', i)\n",
    "        tmp_sum = C[i] + counting\n",
    "        offsets[i] = tmp_sum\n",
    "        counting = tmp_sum\n",
    "            \n",
    "    #print('offsets', offsets)\n",
    "            \n",
    "    #print('tmp_sorted_1', tmp_sorted)\n",
    "    #print('A', A)\n",
    "    #print('current_place', current_place)\n",
    "        \n",
    "\n",
    "    for i in range(len(A) - 1, -1, -1):\n",
    "        if A[i] >= (scope * d):\n",
    "            key = (A[i] >> (4 * d)) & (scope - 1)\n",
    "            #key = A[i] % (10 ** (d + 1)) // (10 ** d)\n",
    "            #print('A[i]', A[i], 'key', key, 'offsets[key]', current_place + offsets[key])\n",
    "            if offsets[key] != 0:\n",
    "                offsets[key] -= 1\n",
    "                tmp_sorted[current_place + offsets[key]] = A[i]\n",
    "        #print('tmp_sorted_1', tmp_sorted)\n",
    "        \n",
    "    #print('---------------------------------------')\n",
    "\n",
    "    return tmp_sorted\n",
    "\n",
    "#arr = [15, 0, 4, 99, 11, 3, 3, 431, 44]\n",
    "#counting_sort(arr, 1)"
   ]
  },
  {
   "cell_type": "code",
   "execution_count": 138,
   "metadata": {},
   "outputs": [
    {
     "data": {
      "text/plain": [
       "'0x16'"
      ]
     },
     "execution_count": 138,
     "metadata": {},
     "output_type": "execute_result"
    }
   ],
   "source": [
    "hex(22)\n"
   ]
  }
 ],
 "metadata": {
  "kernelspec": {
   "display_name": "Python (PyPy)",
   "language": "python",
   "name": "pypy"
  },
  "language_info": {
   "codemirror_mode": {
    "name": "ipython",
    "version": 3
   },
   "file_extension": ".py",
   "mimetype": "text/x-python",
   "name": "python",
   "nbconvert_exporter": "python",
   "pygments_lexer": "ipython3",
   "version": "3.6.9"
  }
 },
 "nbformat": 4,
 "nbformat_minor": 4
}
