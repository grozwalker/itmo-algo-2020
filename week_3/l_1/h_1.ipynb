{
 "cells": [
  {
   "cell_type": "code",
   "execution_count": 23,
   "metadata": {},
   "outputs": [
    {
     "name": "stdout",
     "output_type": "stream",
     "text": [
      "2.319277048110962 seconds\n"
     ]
    }
   ],
   "source": [
    "import time\n",
    "\n",
    "t1 = time.time()\n",
    "\n",
    "from edx_io import edx_io\n",
    "\n",
    "with edx_io() as io:\n",
    "    n = io.next_int()\n",
    "    m = io.next_int()\n",
    "    ab_length = n * m\n",
    "    \n",
    "    a = [0] * n\n",
    "    b = [0] * m\n",
    "    ab = [0] * ab_length\n",
    "    \n",
    "    for i in range (0, n):\n",
    "        a[i] = io.next_int()\n",
    "        \n",
    "    for i in range (0, m):\n",
    "        b[i] = io.next_int()\n",
    "    \n",
    "    position = 0\n",
    "    for i in range (0, n):\n",
    "        for j in range (0, m):\n",
    "            ab[position] = a[i] * b[j]\n",
    "            position += 1\n",
    "    \n",
    "    sorted_ab = digital_sort(ab, ab_length)\n",
    "\n",
    "    result = 0\n",
    "    for i in range(0, ab_length, 10):\n",
    "        result += sorted_ab[i]\n",
    "\n",
    "    io.writeln(result)  \n",
    "\n",
    "t2 = time.time()\n",
    "print('{} seconds'.format(t2 - t1))"
   ]
  },
  {
   "cell_type": "code",
   "execution_count": 22,
   "metadata": {},
   "outputs": [
    {
     "data": {
      "text/plain": [
       "[0, 3, 3, 4, 11, 15, 44, 99, 431]"
      ]
     },
     "execution_count": 22,
     "metadata": {},
     "output_type": "execute_result"
    }
   ],
   "source": [
    "def digital_sort(a, ab_length):          \n",
    "    digits = get_digits(max(a))\n",
    "    \n",
    "    tmp_a = a[:]\n",
    "    offsets = [0] * 256\n",
    "    for d in range(digits):\n",
    "        counting_sort(a, tmp_a, ab_length, offsets, d)\n",
    "        xx = a\n",
    "        a = tmp_a\n",
    "        tmp_a = xx\n",
    "\n",
    "    return a\n",
    "\n",
    "arr = [15, 0, 4, 99, 11, 3, 3, 431, 44]\n",
    "digital_sort(arr, 9)"
   ]
  },
  {
   "cell_type": "code",
   "execution_count": 21,
   "metadata": {},
   "outputs": [],
   "source": [
    "def counting_sort(a, tmp_a, ab_length, offsets, d):\n",
    "    C = [0] * 256\n",
    "    base = 8 * d\n",
    "    \n",
    "    for el in a:\n",
    "        C[(el >> (base)) & 255] += 1\n",
    "        \n",
    "    counting = 0\n",
    "    for i in range(256):\n",
    "        offsets[i] = counting\n",
    "        counting += C[i]        \n",
    "\n",
    "    for el in a:\n",
    "        key = (el >> (base)) & 255\n",
    "        tmp_a[offsets[key]] = el\n",
    "        offsets[key] += 1\n",
    "\n",
    "    return tmp_a\n",
    "\n",
    "#arr = [15, 0, 4, 99, 11, 3, 3, 431, 44]\n",
    "#counting_sort(arr, 1)"
   ]
  },
  {
   "cell_type": "code",
   "execution_count": 1,
   "metadata": {},
   "outputs": [],
   "source": [
    "def get_digits(n):\n",
    "    count = 0\n",
    "    while n:\n",
    "        n, r = n // 256, n % 256\n",
    "        count += 1\n",
    "        \n",
    "    return count"
   ]
  },
  {
   "cell_type": "code",
   "execution_count": null,
   "metadata": {},
   "outputs": [],
   "source": [
    "from baseconv import base2, base16, base36, base56, base58, base62, base64\n",
    "\n",
    "base64.encode(100000000000000000000000000000000000)"
   ]
  }
 ],
 "metadata": {
  "kernelspec": {
   "display_name": "Python (PyPy)",
   "language": "python",
   "name": "pypy"
  },
  "language_info": {
   "codemirror_mode": {
    "name": "ipython",
    "version": 3
   },
   "file_extension": ".py",
   "mimetype": "text/x-python",
   "name": "python",
   "nbconvert_exporter": "python",
   "pygments_lexer": "ipython3",
   "version": "3.6.9"
  }
 },
 "nbformat": 4,
 "nbformat_minor": 4
}
